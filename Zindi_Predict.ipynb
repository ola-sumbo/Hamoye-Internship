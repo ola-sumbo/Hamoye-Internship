{
  "nbformat": 4,
  "nbformat_minor": 0,
  "metadata": {
    "colab": {
      "name": "Zindi_Predict.ipynb",
      "provenance": [],
      "collapsed_sections": [],
      "authorship_tag": "ABX9TyOYZZI7oKTGSmQtZZGujbzb",
      "include_colab_link": true
    },
    "kernelspec": {
      "name": "python3",
      "display_name": "Python 3"
    },
    "accelerator": "GPU"
  },
  "cells": [
    {
      "cell_type": "markdown",
      "metadata": {
        "id": "view-in-github",
        "colab_type": "text"
      },
      "source": [
        "<a href=\"https://colab.research.google.com/github/ola-sumbo/Hamoye-Internship/blob/master/Zindi_Predict.ipynb\" target=\"_parent\"><img src=\"https://colab.research.google.com/assets/colab-badge.svg\" alt=\"Open In Colab\"/></a>"
      ]
    },
    {
      "cell_type": "code",
      "metadata": {
        "id": "XnoH2WIpQv7i"
      },
      "source": [
        "import pandas as pd\n",
        "import numpy as np\n",
        "from sklearn.model_selection import train_test_split, StratifiedKFold\n",
        "import matplotlib.pyplot as plt\n",
        "import seaborn as sns\n",
        "%matplotlib inline\n",
        "import sklearn\n",
        "import pandas_profiling\n",
        "from sklearn.ensemble import RandomForestClassifier\n",
        "from sklearn.metrics import f1_score, accuracy_score, roc_curve, roc_auc_score\n",
        "from scipy.stats import chi2_contingency, ttest_ind\n",
        "from sklearn.utils import shuffle\n",
        "import time"
      ],
      "execution_count": 91,
      "outputs": []
    },
    {
      "cell_type": "code",
      "metadata": {
        "id": "eSDe4o8rRCl8"
      },
      "source": [
        "from google.colab import files\n",
        "uploaded = files.upload()"
      ],
      "execution_count": null,
      "outputs": []
    },
    {
      "cell_type": "code",
      "metadata": {
        "id": "9ShyT8WBRW28"
      },
      "source": [
        "import io\n",
        "test_df= pd.read_csv('Test.csv')\n",
        "test_df.head()\n",
        "test_df = test_df.fillna(method='ffill')"
      ],
      "execution_count": 92,
      "outputs": []
    },
    {
      "cell_type": "code",
      "metadata": {
        "id": "Asil_EqgRciA"
      },
      "source": [
        "from google.colab import files\n",
        "uploaded = files.upload()"
      ],
      "execution_count": null,
      "outputs": []
    },
    {
      "cell_type": "code",
      "metadata": {
        "id": "hLc2uJzcRwSr"
      },
      "source": [
        "train_df= pd.read_csv('Train.csv')\n",
        "train_df.head()\n",
        "train_df= train_df.fillna(method='ffill')"
      ],
      "execution_count": 93,
      "outputs": []
    },
    {
      "cell_type": "code",
      "metadata": {
        "id": "spCNcOi7R6N_",
        "outputId": "8bdc303e-549e-4c17-b56d-e675137e1aee",
        "colab": {
          "base_uri": "https://localhost:8080/",
          "height": 224
        }
      },
      "source": [
        "dataset = pd.concat([train_df, test_df], sort=True)\n",
        "dataset.head() "
      ],
      "execution_count": 94,
      "outputs": [
        {
          "output_type": "execute_result",
          "data": {
            "text/html": [
              "<div>\n",
              "<style scoped>\n",
              "    .dataframe tbody tr th:only-of-type {\n",
              "        vertical-align: middle;\n",
              "    }\n",
              "\n",
              "    .dataframe tbody tr th {\n",
              "        vertical-align: top;\n",
              "    }\n",
              "\n",
              "    .dataframe thead th {\n",
              "        text-align: right;\n",
              "    }\n",
              "</style>\n",
              "<table border=\"1\" class=\"dataframe\">\n",
              "  <thead>\n",
              "    <tr style=\"text-align: right;\">\n",
              "      <th></th>\n",
              "      <th>Applicant_ID</th>\n",
              "      <th>default_status</th>\n",
              "      <th>form_field1</th>\n",
              "      <th>form_field10</th>\n",
              "      <th>form_field11</th>\n",
              "      <th>form_field12</th>\n",
              "      <th>form_field13</th>\n",
              "      <th>form_field14</th>\n",
              "      <th>form_field15</th>\n",
              "      <th>form_field16</th>\n",
              "      <th>form_field17</th>\n",
              "      <th>form_field18</th>\n",
              "      <th>form_field19</th>\n",
              "      <th>form_field2</th>\n",
              "      <th>form_field20</th>\n",
              "      <th>form_field21</th>\n",
              "      <th>form_field22</th>\n",
              "      <th>form_field23</th>\n",
              "      <th>form_field24</th>\n",
              "      <th>form_field25</th>\n",
              "      <th>form_field26</th>\n",
              "      <th>form_field27</th>\n",
              "      <th>form_field28</th>\n",
              "      <th>form_field29</th>\n",
              "      <th>form_field3</th>\n",
              "      <th>form_field30</th>\n",
              "      <th>form_field31</th>\n",
              "      <th>form_field32</th>\n",
              "      <th>form_field33</th>\n",
              "      <th>form_field34</th>\n",
              "      <th>form_field35</th>\n",
              "      <th>form_field36</th>\n",
              "      <th>form_field37</th>\n",
              "      <th>form_field38</th>\n",
              "      <th>form_field39</th>\n",
              "      <th>form_field4</th>\n",
              "      <th>form_field40</th>\n",
              "      <th>form_field41</th>\n",
              "      <th>form_field42</th>\n",
              "      <th>form_field43</th>\n",
              "      <th>form_field44</th>\n",
              "      <th>form_field45</th>\n",
              "      <th>form_field46</th>\n",
              "      <th>form_field47</th>\n",
              "      <th>form_field48</th>\n",
              "      <th>form_field49</th>\n",
              "      <th>form_field5</th>\n",
              "      <th>form_field50</th>\n",
              "      <th>form_field6</th>\n",
              "      <th>form_field7</th>\n",
              "      <th>form_field8</th>\n",
              "      <th>form_field9</th>\n",
              "    </tr>\n",
              "  </thead>\n",
              "  <tbody>\n",
              "    <tr>\n",
              "      <th>0</th>\n",
              "      <td>Apcnt_1000000</td>\n",
              "      <td>no</td>\n",
              "      <td>3436.0</td>\n",
              "      <td>11333126.0</td>\n",
              "      <td>4397256.0</td>\n",
              "      <td>2301324.0</td>\n",
              "      <td>7875694.0</td>\n",
              "      <td>96375139</td>\n",
              "      <td>112181765.0</td>\n",
              "      <td>1.0</td>\n",
              "      <td>1.0</td>\n",
              "      <td>1.0</td>\n",
              "      <td>3.0</td>\n",
              "      <td>0.28505</td>\n",
              "      <td>3.0</td>\n",
              "      <td>134.655</td>\n",
              "      <td>NaN</td>\n",
              "      <td>NaN</td>\n",
              "      <td>134.655</td>\n",
              "      <td>4000.5</td>\n",
              "      <td>17064.0</td>\n",
              "      <td>11376.0</td>\n",
              "      <td>60.0</td>\n",
              "      <td>17064.0</td>\n",
              "      <td>1.6560</td>\n",
              "      <td>5962.0</td>\n",
              "      <td>NaN</td>\n",
              "      <td>1052.0</td>\n",
              "      <td>8.0000</td>\n",
              "      <td>2.0</td>\n",
              "      <td>NaN</td>\n",
              "      <td>12.0</td>\n",
              "      <td>12.0</td>\n",
              "      <td>4.0</td>\n",
              "      <td>0.0</td>\n",
              "      <td>0.0</td>\n",
              "      <td>NaN</td>\n",
              "      <td>NaN</td>\n",
              "      <td>0.392854</td>\n",
              "      <td>2.02</td>\n",
              "      <td>0.711632</td>\n",
              "      <td>0.0</td>\n",
              "      <td>0.0</td>\n",
              "      <td>charge</td>\n",
              "      <td>NaN</td>\n",
              "      <td>1.129518</td>\n",
              "      <td>0.000</td>\n",
              "      <td>0.044335</td>\n",
              "      <td>0.0</td>\n",
              "      <td>10689720.0</td>\n",
              "      <td>252072.0</td>\n",
              "      <td>4272776.0</td>\n",
              "    </tr>\n",
              "    <tr>\n",
              "      <th>1</th>\n",
              "      <td>Apcnt_1000004</td>\n",
              "      <td>no</td>\n",
              "      <td>3456.0</td>\n",
              "      <td>2533168.0</td>\n",
              "      <td>244292.0</td>\n",
              "      <td>3982971.0</td>\n",
              "      <td>2141445.0</td>\n",
              "      <td>28141427</td>\n",
              "      <td>45169902.0</td>\n",
              "      <td>1.0</td>\n",
              "      <td>1.0</td>\n",
              "      <td>1.0</td>\n",
              "      <td>2.0</td>\n",
              "      <td>0.67400</td>\n",
              "      <td>2.0</td>\n",
              "      <td>109.230</td>\n",
              "      <td>11385.24</td>\n",
              "      <td>14584.29</td>\n",
              "      <td>86.685</td>\n",
              "      <td>4161.0</td>\n",
              "      <td>13413.0</td>\n",
              "      <td>8942.0</td>\n",
              "      <td>304.0</td>\n",
              "      <td>13413.0</td>\n",
              "      <td>0.2342</td>\n",
              "      <td>5780.0</td>\n",
              "      <td>NaN</td>\n",
              "      <td>2554.0</td>\n",
              "      <td>17.5000</td>\n",
              "      <td>0.0</td>\n",
              "      <td>0.0</td>\n",
              "      <td>16.0</td>\n",
              "      <td>24.0</td>\n",
              "      <td>8.0</td>\n",
              "      <td>0.0</td>\n",
              "      <td>0.0</td>\n",
              "      <td>NaN</td>\n",
              "      <td>NaN</td>\n",
              "      <td>0.314281</td>\n",
              "      <td>8.08</td>\n",
              "      <td>0.183584</td>\n",
              "      <td>0.0</td>\n",
              "      <td>0.0</td>\n",
              "      <td>charge</td>\n",
              "      <td>349.805730</td>\n",
              "      <td>1.620483</td>\n",
              "      <td>0.000</td>\n",
              "      <td>0.322436</td>\n",
              "      <td>0.0</td>\n",
              "      <td>898979.0</td>\n",
              "      <td>497531.0</td>\n",
              "      <td>9073814.0</td>\n",
              "    </tr>\n",
              "    <tr>\n",
              "      <th>2</th>\n",
              "      <td>Apcnt_1000008</td>\n",
              "      <td>yes</td>\n",
              "      <td>3276.0</td>\n",
              "      <td>1079864.0</td>\n",
              "      <td>244292.0</td>\n",
              "      <td>3982971.0</td>\n",
              "      <td>0.0</td>\n",
              "      <td>16576457</td>\n",
              "      <td>22452691.0</td>\n",
              "      <td>1.0</td>\n",
              "      <td>1.0</td>\n",
              "      <td>1.0</td>\n",
              "      <td>0.0</td>\n",
              "      <td>0.53845</td>\n",
              "      <td>0.0</td>\n",
              "      <td>109.230</td>\n",
              "      <td>11385.24</td>\n",
              "      <td>14584.29</td>\n",
              "      <td>86.685</td>\n",
              "      <td>1597.5</td>\n",
              "      <td>4746.0</td>\n",
              "      <td>3164.0</td>\n",
              "      <td>60.0</td>\n",
              "      <td>15696.0</td>\n",
              "      <td>3.1510</td>\n",
              "      <td>5780.0</td>\n",
              "      <td>14508.0</td>\n",
              "      <td>70.0</td>\n",
              "      <td>0.6666</td>\n",
              "      <td>0.0</td>\n",
              "      <td>0.0</td>\n",
              "      <td>12.0</td>\n",
              "      <td>0.0</td>\n",
              "      <td>6.0</td>\n",
              "      <td>0.0</td>\n",
              "      <td>0.0</td>\n",
              "      <td>149.6805</td>\n",
              "      <td>NaN</td>\n",
              "      <td>0.162965</td>\n",
              "      <td>18.18</td>\n",
              "      <td>0.791136</td>\n",
              "      <td>0.0</td>\n",
              "      <td>0.0</td>\n",
              "      <td>charge</td>\n",
              "      <td>349.805730</td>\n",
              "      <td>1.513370</td>\n",
              "      <td>6.282</td>\n",
              "      <td>0.011640</td>\n",
              "      <td>0.0</td>\n",
              "      <td>956940.0</td>\n",
              "      <td>497531.0</td>\n",
              "      <td>192944.0</td>\n",
              "    </tr>\n",
              "    <tr>\n",
              "      <th>3</th>\n",
              "      <td>Apcnt_1000012</td>\n",
              "      <td>no</td>\n",
              "      <td>3372.0</td>\n",
              "      <td>3621979.0</td>\n",
              "      <td>244292.0</td>\n",
              "      <td>771776.0</td>\n",
              "      <td>1186839.0</td>\n",
              "      <td>48187375</td>\n",
              "      <td>136297820.0</td>\n",
              "      <td>0.0</td>\n",
              "      <td>0.0</td>\n",
              "      <td>0.0</td>\n",
              "      <td>1.0</td>\n",
              "      <td>0.17005</td>\n",
              "      <td>1.0</td>\n",
              "      <td>120.120</td>\n",
              "      <td>8580.00</td>\n",
              "      <td>0.00</td>\n",
              "      <td>85.800</td>\n",
              "      <td>1701.0</td>\n",
              "      <td>4014.0</td>\n",
              "      <td>2676.0</td>\n",
              "      <td>60.0</td>\n",
              "      <td>11679.0</td>\n",
              "      <td>0.5050</td>\n",
              "      <td>5780.0</td>\n",
              "      <td>14508.0</td>\n",
              "      <td>522.0</td>\n",
              "      <td>7.8334</td>\n",
              "      <td>1.0</td>\n",
              "      <td>1.0</td>\n",
              "      <td>4.0</td>\n",
              "      <td>8.0</td>\n",
              "      <td>4.0</td>\n",
              "      <td>1.0</td>\n",
              "      <td>0.0</td>\n",
              "      <td>149.6805</td>\n",
              "      <td>NaN</td>\n",
              "      <td>0.488884</td>\n",
              "      <td>2.02</td>\n",
              "      <td>0.685168</td>\n",
              "      <td>0.0</td>\n",
              "      <td>0.0</td>\n",
              "      <td>charge</td>\n",
              "      <td>89.940100</td>\n",
              "      <td>0.664452</td>\n",
              "      <td>0.000</td>\n",
              "      <td>0.082729</td>\n",
              "      <td>192166.0</td>\n",
              "      <td>3044703.0</td>\n",
              "      <td>385499.0</td>\n",
              "      <td>3986472.0</td>\n",
              "    </tr>\n",
              "    <tr>\n",
              "      <th>4</th>\n",
              "      <td>Apcnt_1000016</td>\n",
              "      <td>no</td>\n",
              "      <td>3370.0</td>\n",
              "      <td>361770.0</td>\n",
              "      <td>396391.0</td>\n",
              "      <td>818456.0</td>\n",
              "      <td>511535.0</td>\n",
              "      <td>28141427</td>\n",
              "      <td>15292757.0</td>\n",
              "      <td>0.0</td>\n",
              "      <td>0.0</td>\n",
              "      <td>0.0</td>\n",
              "      <td>3.0</td>\n",
              "      <td>0.77270</td>\n",
              "      <td>3.0</td>\n",
              "      <td>104.535</td>\n",
              "      <td>8360.19</td>\n",
              "      <td>10326.45</td>\n",
              "      <td>115.335</td>\n",
              "      <td>1551.0</td>\n",
              "      <td>3285.0</td>\n",
              "      <td>2190.0</td>\n",
              "      <td>60.0</td>\n",
              "      <td>19437.0</td>\n",
              "      <td>1.1010</td>\n",
              "      <td>12958.0</td>\n",
              "      <td>5202.0</td>\n",
              "      <td>272.0</td>\n",
              "      <td>1.0000</td>\n",
              "      <td>0.0</td>\n",
              "      <td>0.0</td>\n",
              "      <td>24.0</td>\n",
              "      <td>2.0</td>\n",
              "      <td>24.0</td>\n",
              "      <td>0.0</td>\n",
              "      <td>0.0</td>\n",
              "      <td>150.0135</td>\n",
              "      <td>NaN</td>\n",
              "      <td>0.275000</td>\n",
              "      <td>12.12</td>\n",
              "      <td>0.438168</td>\n",
              "      <td>0.0</td>\n",
              "      <td>0.0</td>\n",
              "      <td>charge</td>\n",
              "      <td>97.887502</td>\n",
              "      <td>1.427891</td>\n",
              "      <td>0.000</td>\n",
              "      <td>0.045630</td>\n",
              "      <td>1556.0</td>\n",
              "      <td>214728.0</td>\n",
              "      <td>214728.0</td>\n",
              "      <td>1284089.0</td>\n",
              "    </tr>\n",
              "  </tbody>\n",
              "</table>\n",
              "</div>"
            ],
            "text/plain": [
              "    Applicant_ID default_status  ...  form_field8  form_field9\n",
              "0  Apcnt_1000000             no  ...     252072.0    4272776.0\n",
              "1  Apcnt_1000004             no  ...     497531.0    9073814.0\n",
              "2  Apcnt_1000008            yes  ...     497531.0     192944.0\n",
              "3  Apcnt_1000012             no  ...     385499.0    3986472.0\n",
              "4  Apcnt_1000016             no  ...     214728.0    1284089.0\n",
              "\n",
              "[5 rows x 52 columns]"
            ]
          },
          "metadata": {
            "tags": []
          },
          "execution_count": 94
        }
      ]
    },
    {
      "cell_type": "code",
      "metadata": {
        "id": "hY0kmpIispyY",
        "outputId": "1a89902e-1e46-4e6d-8960-7e84a9fbbe41",
        "colab": {
          "base_uri": "https://localhost:8080/",
          "height": 918
        }
      },
      "source": [
        "# dataset.isnull().any()\n",
        "dataset.dtypes"
      ],
      "execution_count": 95,
      "outputs": [
        {
          "output_type": "execute_result",
          "data": {
            "text/plain": [
              "Applicant_ID       object\n",
              "default_status     object\n",
              "form_field1       float64\n",
              "form_field10      float64\n",
              "form_field11      float64\n",
              "form_field12      float64\n",
              "form_field13      float64\n",
              "form_field14        int64\n",
              "form_field15      float64\n",
              "form_field16      float64\n",
              "form_field17      float64\n",
              "form_field18      float64\n",
              "form_field19      float64\n",
              "form_field2       float64\n",
              "form_field20      float64\n",
              "form_field21      float64\n",
              "form_field22      float64\n",
              "form_field23      float64\n",
              "form_field24      float64\n",
              "form_field25      float64\n",
              "form_field26      float64\n",
              "form_field27      float64\n",
              "form_field28      float64\n",
              "form_field29      float64\n",
              "form_field3       float64\n",
              "form_field30      float64\n",
              "form_field31      float64\n",
              "form_field32      float64\n",
              "form_field33      float64\n",
              "form_field34      float64\n",
              "form_field35      float64\n",
              "form_field36      float64\n",
              "form_field37      float64\n",
              "form_field38      float64\n",
              "form_field39      float64\n",
              "form_field4       float64\n",
              "form_field40      float64\n",
              "form_field41      float64\n",
              "form_field42      float64\n",
              "form_field43      float64\n",
              "form_field44      float64\n",
              "form_field45      float64\n",
              "form_field46      float64\n",
              "form_field47       object\n",
              "form_field48      float64\n",
              "form_field49      float64\n",
              "form_field5       float64\n",
              "form_field50      float64\n",
              "form_field6       float64\n",
              "form_field7       float64\n",
              "form_field8       float64\n",
              "form_field9       float64\n",
              "dtype: object"
            ]
          },
          "metadata": {
            "tags": []
          },
          "execution_count": 95
        }
      ]
    },
    {
      "cell_type": "code",
      "metadata": {
        "id": "TUXPWCAXSTX8",
        "outputId": "ac13de14-2d8e-4cfd-e53a-0545eb14349a",
        "colab": {
          "base_uri": "https://localhost:8080/",
          "height": 481
        }
      },
      "source": [
        "# summarize each variable\n",
        "from matplotlib import pyplot\n",
        "print(dataset.describe())\n",
        "# histograms of the variables\n",
        "dataset.hist()\n",
        "pyplot.show()"
      ],
      "execution_count": 96,
      "outputs": [
        {
          "output_type": "stream",
          "text": [
            "        form_field1  form_field10  ...   form_field8   form_field9\n",
            "count  80000.000000  8.000000e+04  ...  8.000000e+04  8.000000e+04\n",
            "mean    3491.352500  1.185769e+07  ...  2.574596e+06  1.310295e+07\n",
            "std      188.999511  2.611433e+07  ...  3.886000e+06  2.115927e+07\n",
            "min     2986.000000  0.000000e+00  ...  0.000000e+00  0.000000e+00\n",
            "25%     3358.000000  4.410288e+05  ...  1.820520e+05  1.339230e+06\n",
            "50%     3484.000000  3.686553e+06  ...  9.203740e+05  5.396986e+06\n",
            "75%     3620.000000  1.322882e+07  ...  3.623535e+06  1.669199e+07\n",
            "max     3900.000000  2.191361e+09  ...  1.135141e+08  1.443921e+09\n",
            "\n",
            "[8 rows x 49 columns]\n"
          ],
          "name": "stdout"
        },
        {
          "output_type": "display_data",
          "data": {
            "image/png": "[encoded data removed]",
            "text/plain": [
              "<Figure size 432x288 with 49 Axes>"
            ]
          },
          "metadata": {
            "tags": [],
            "needs_background": "light"
          }
        }
      ]
    },
    {
      "cell_type": "markdown",
      "metadata": {
        "id": "qjcWddtZTDsj"
      },
      "source": [
        "**Data Pre processing**"
      ]
    },
    {
      "cell_type": "code",
      "metadata": {
        "id": "gCuDSlPaTAax"
      },
      "source": [
        "#list(dataset.columns.values)"
      ],
      "execution_count": null,
      "outputs": []
    },
    {
      "cell_type": "code",
      "metadata": {
        "id": "rLWjnC6YTVbj",
        "outputId": "66abc35d-4faf-4c46-9e27-d26b49b75192",
        "colab": {
          "base_uri": "https://localhost:8080/",
          "height": 224
        }
      },
      "source": [
        "CategoricalColumns = ['form_field47', 'default_status']\n",
        "\n",
        "type(dataset)\n",
        "\n",
        "from sklearn.preprocessing import LabelEncoder\n",
        "\n",
        "lb_make = LabelEncoder()\n",
        "dataset['form_field47_new'] = lb_make.fit_transform(dataset['form_field47'])\n",
        "dataset = dataset.drop('form_field47', axis=1 )\n",
        "dataset.head()"
      ],
      "execution_count": 97,
      "outputs": [
        {
          "output_type": "execute_result",
          "data": {
            "text/html": [
              "<div>\n",
              "<style scoped>\n",
              "    .dataframe tbody tr th:only-of-type {\n",
              "        vertical-align: middle;\n",
              "    }\n",
              "\n",
              "    .dataframe tbody tr th {\n",
              "        vertical-align: top;\n",
              "    }\n",
              "\n",
              "    .dataframe thead th {\n",
              "        text-align: right;\n",
              "    }\n",
              "</style>\n",
              "<table border=\"1\" class=\"dataframe\">\n",
              "  <thead>\n",
              "    <tr style=\"text-align: right;\">\n",
              "      <th></th>\n",
              "      <th>Applicant_ID</th>\n",
              "      <th>default_status</th>\n",
              "      <th>form_field1</th>\n",
              "      <th>form_field10</th>\n",
              "      <th>form_field11</th>\n",
              "      <th>form_field12</th>\n",
              "      <th>form_field13</th>\n",
              "      <th>form_field14</th>\n",
              "      <th>form_field15</th>\n",
              "      <th>form_field16</th>\n",
              "      <th>form_field17</th>\n",
              "      <th>form_field18</th>\n",
              "      <th>form_field19</th>\n",
              "      <th>form_field2</th>\n",
              "      <th>form_field20</th>\n",
              "      <th>form_field21</th>\n",
              "      <th>form_field22</th>\n",
              "      <th>form_field23</th>\n",
              "      <th>form_field24</th>\n",
              "      <th>form_field25</th>\n",
              "      <th>form_field26</th>\n",
              "      <th>form_field27</th>\n",
              "      <th>form_field28</th>\n",
              "      <th>form_field29</th>\n",
              "      <th>form_field3</th>\n",
              "      <th>form_field30</th>\n",
              "      <th>form_field31</th>\n",
              "      <th>form_field32</th>\n",
              "      <th>form_field33</th>\n",
              "      <th>form_field34</th>\n",
              "      <th>form_field35</th>\n",
              "      <th>form_field36</th>\n",
              "      <th>form_field37</th>\n",
              "      <th>form_field38</th>\n",
              "      <th>form_field39</th>\n",
              "      <th>form_field4</th>\n",
              "      <th>form_field40</th>\n",
              "      <th>form_field41</th>\n",
              "      <th>form_field42</th>\n",
              "      <th>form_field43</th>\n",
              "      <th>form_field44</th>\n",
              "      <th>form_field45</th>\n",
              "      <th>form_field46</th>\n",
              "      <th>form_field48</th>\n",
              "      <th>form_field49</th>\n",
              "      <th>form_field5</th>\n",
              "      <th>form_field50</th>\n",
              "      <th>form_field6</th>\n",
              "      <th>form_field7</th>\n",
              "      <th>form_field8</th>\n",
              "      <th>form_field9</th>\n",
              "      <th>form_field47_new</th>\n",
              "    </tr>\n",
              "  </thead>\n",
              "  <tbody>\n",
              "    <tr>\n",
              "      <th>0</th>\n",
              "      <td>Apcnt_1000000</td>\n",
              "      <td>no</td>\n",
              "      <td>3436.0</td>\n",
              "      <td>11333126.0</td>\n",
              "      <td>4397256.0</td>\n",
              "      <td>2301324.0</td>\n",
              "      <td>7875694.0</td>\n",
              "      <td>96375139</td>\n",
              "      <td>112181765.0</td>\n",
              "      <td>1.0</td>\n",
              "      <td>1.0</td>\n",
              "      <td>1.0</td>\n",
              "      <td>3.0</td>\n",
              "      <td>0.28505</td>\n",
              "      <td>3.0</td>\n",
              "      <td>134.655</td>\n",
              "      <td>NaN</td>\n",
              "      <td>NaN</td>\n",
              "      <td>134.655</td>\n",
              "      <td>4000.5</td>\n",
              "      <td>17064.0</td>\n",
              "      <td>11376.0</td>\n",
              "      <td>60.0</td>\n",
              "      <td>17064.0</td>\n",
              "      <td>1.6560</td>\n",
              "      <td>5962.0</td>\n",
              "      <td>NaN</td>\n",
              "      <td>1052.0</td>\n",
              "      <td>8.0000</td>\n",
              "      <td>2.0</td>\n",
              "      <td>NaN</td>\n",
              "      <td>12.0</td>\n",
              "      <td>12.0</td>\n",
              "      <td>4.0</td>\n",
              "      <td>0.0</td>\n",
              "      <td>0.0</td>\n",
              "      <td>NaN</td>\n",
              "      <td>NaN</td>\n",
              "      <td>0.392854</td>\n",
              "      <td>2.02</td>\n",
              "      <td>0.711632</td>\n",
              "      <td>0.0</td>\n",
              "      <td>0.0</td>\n",
              "      <td>NaN</td>\n",
              "      <td>1.129518</td>\n",
              "      <td>0.000</td>\n",
              "      <td>0.044335</td>\n",
              "      <td>0.0</td>\n",
              "      <td>10689720.0</td>\n",
              "      <td>252072.0</td>\n",
              "      <td>4272776.0</td>\n",
              "      <td>0</td>\n",
              "    </tr>\n",
              "    <tr>\n",
              "      <th>1</th>\n",
              "      <td>Apcnt_1000004</td>\n",
              "      <td>no</td>\n",
              "      <td>3456.0</td>\n",
              "      <td>2533168.0</td>\n",
              "      <td>244292.0</td>\n",
              "      <td>3982971.0</td>\n",
              "      <td>2141445.0</td>\n",
              "      <td>28141427</td>\n",
              "      <td>45169902.0</td>\n",
              "      <td>1.0</td>\n",
              "      <td>1.0</td>\n",
              "      <td>1.0</td>\n",
              "      <td>2.0</td>\n",
              "      <td>0.67400</td>\n",
              "      <td>2.0</td>\n",
              "      <td>109.230</td>\n",
              "      <td>11385.24</td>\n",
              "      <td>14584.29</td>\n",
              "      <td>86.685</td>\n",
              "      <td>4161.0</td>\n",
              "      <td>13413.0</td>\n",
              "      <td>8942.0</td>\n",
              "      <td>304.0</td>\n",
              "      <td>13413.0</td>\n",
              "      <td>0.2342</td>\n",
              "      <td>5780.0</td>\n",
              "      <td>NaN</td>\n",
              "      <td>2554.0</td>\n",
              "      <td>17.5000</td>\n",
              "      <td>0.0</td>\n",
              "      <td>0.0</td>\n",
              "      <td>16.0</td>\n",
              "      <td>24.0</td>\n",
              "      <td>8.0</td>\n",
              "      <td>0.0</td>\n",
              "      <td>0.0</td>\n",
              "      <td>NaN</td>\n",
              "      <td>NaN</td>\n",
              "      <td>0.314281</td>\n",
              "      <td>8.08</td>\n",
              "      <td>0.183584</td>\n",
              "      <td>0.0</td>\n",
              "      <td>0.0</td>\n",
              "      <td>349.805730</td>\n",
              "      <td>1.620483</td>\n",
              "      <td>0.000</td>\n",
              "      <td>0.322436</td>\n",
              "      <td>0.0</td>\n",
              "      <td>898979.0</td>\n",
              "      <td>497531.0</td>\n",
              "      <td>9073814.0</td>\n",
              "      <td>0</td>\n",
              "    </tr>\n",
              "    <tr>\n",
              "      <th>2</th>\n",
              "      <td>Apcnt_1000008</td>\n",
              "      <td>yes</td>\n",
              "      <td>3276.0</td>\n",
              "      <td>1079864.0</td>\n",
              "      <td>244292.0</td>\n",
              "      <td>3982971.0</td>\n",
              "      <td>0.0</td>\n",
              "      <td>16576457</td>\n",
              "      <td>22452691.0</td>\n",
              "      <td>1.0</td>\n",
              "      <td>1.0</td>\n",
              "      <td>1.0</td>\n",
              "      <td>0.0</td>\n",
              "      <td>0.53845</td>\n",
              "      <td>0.0</td>\n",
              "      <td>109.230</td>\n",
              "      <td>11385.24</td>\n",
              "      <td>14584.29</td>\n",
              "      <td>86.685</td>\n",
              "      <td>1597.5</td>\n",
              "      <td>4746.0</td>\n",
              "      <td>3164.0</td>\n",
              "      <td>60.0</td>\n",
              "      <td>15696.0</td>\n",
              "      <td>3.1510</td>\n",
              "      <td>5780.0</td>\n",
              "      <td>14508.0</td>\n",
              "      <td>70.0</td>\n",
              "      <td>0.6666</td>\n",
              "      <td>0.0</td>\n",
              "      <td>0.0</td>\n",
              "      <td>12.0</td>\n",
              "      <td>0.0</td>\n",
              "      <td>6.0</td>\n",
              "      <td>0.0</td>\n",
              "      <td>0.0</td>\n",
              "      <td>149.6805</td>\n",
              "      <td>NaN</td>\n",
              "      <td>0.162965</td>\n",
              "      <td>18.18</td>\n",
              "      <td>0.791136</td>\n",
              "      <td>0.0</td>\n",
              "      <td>0.0</td>\n",
              "      <td>349.805730</td>\n",
              "      <td>1.513370</td>\n",
              "      <td>6.282</td>\n",
              "      <td>0.011640</td>\n",
              "      <td>0.0</td>\n",
              "      <td>956940.0</td>\n",
              "      <td>497531.0</td>\n",
              "      <td>192944.0</td>\n",
              "      <td>0</td>\n",
              "    </tr>\n",
              "    <tr>\n",
              "      <th>3</th>\n",
              "      <td>Apcnt_1000012</td>\n",
              "      <td>no</td>\n",
              "      <td>3372.0</td>\n",
              "      <td>3621979.0</td>\n",
              "      <td>244292.0</td>\n",
              "      <td>771776.0</td>\n",
              "      <td>1186839.0</td>\n",
              "      <td>48187375</td>\n",
              "      <td>136297820.0</td>\n",
              "      <td>0.0</td>\n",
              "      <td>0.0</td>\n",
              "      <td>0.0</td>\n",
              "      <td>1.0</td>\n",
              "      <td>0.17005</td>\n",
              "      <td>1.0</td>\n",
              "      <td>120.120</td>\n",
              "      <td>8580.00</td>\n",
              "      <td>0.00</td>\n",
              "      <td>85.800</td>\n",
              "      <td>1701.0</td>\n",
              "      <td>4014.0</td>\n",
              "      <td>2676.0</td>\n",
              "      <td>60.0</td>\n",
              "      <td>11679.0</td>\n",
              "      <td>0.5050</td>\n",
              "      <td>5780.0</td>\n",
              "      <td>14508.0</td>\n",
              "      <td>522.0</td>\n",
              "      <td>7.8334</td>\n",
              "      <td>1.0</td>\n",
              "      <td>1.0</td>\n",
              "      <td>4.0</td>\n",
              "      <td>8.0</td>\n",
              "      <td>4.0</td>\n",
              "      <td>1.0</td>\n",
              "      <td>0.0</td>\n",
              "      <td>149.6805</td>\n",
              "      <td>NaN</td>\n",
              "      <td>0.488884</td>\n",
              "      <td>2.02</td>\n",
              "      <td>0.685168</td>\n",
              "      <td>0.0</td>\n",
              "      <td>0.0</td>\n",
              "      <td>89.940100</td>\n",
              "      <td>0.664452</td>\n",
              "      <td>0.000</td>\n",
              "      <td>0.082729</td>\n",
              "      <td>192166.0</td>\n",
              "      <td>3044703.0</td>\n",
              "      <td>385499.0</td>\n",
              "      <td>3986472.0</td>\n",
              "      <td>0</td>\n",
              "    </tr>\n",
              "    <tr>\n",
              "      <th>4</th>\n",
              "      <td>Apcnt_1000016</td>\n",
              "      <td>no</td>\n",
              "      <td>3370.0</td>\n",
              "      <td>361770.0</td>\n",
              "      <td>396391.0</td>\n",
              "      <td>818456.0</td>\n",
              "      <td>511535.0</td>\n",
              "      <td>28141427</td>\n",
              "      <td>15292757.0</td>\n",
              "      <td>0.0</td>\n",
              "      <td>0.0</td>\n",
              "      <td>0.0</td>\n",
              "      <td>3.0</td>\n",
              "      <td>0.77270</td>\n",
              "      <td>3.0</td>\n",
              "      <td>104.535</td>\n",
              "      <td>8360.19</td>\n",
              "      <td>10326.45</td>\n",
              "      <td>115.335</td>\n",
              "      <td>1551.0</td>\n",
              "      <td>3285.0</td>\n",
              "      <td>2190.0</td>\n",
              "      <td>60.0</td>\n",
              "      <td>19437.0</td>\n",
              "      <td>1.1010</td>\n",
              "      <td>12958.0</td>\n",
              "      <td>5202.0</td>\n",
              "      <td>272.0</td>\n",
              "      <td>1.0000</td>\n",
              "      <td>0.0</td>\n",
              "      <td>0.0</td>\n",
              "      <td>24.0</td>\n",
              "      <td>2.0</td>\n",
              "      <td>24.0</td>\n",
              "      <td>0.0</td>\n",
              "      <td>0.0</td>\n",
              "      <td>150.0135</td>\n",
              "      <td>NaN</td>\n",
              "      <td>0.275000</td>\n",
              "      <td>12.12</td>\n",
              "      <td>0.438168</td>\n",
              "      <td>0.0</td>\n",
              "      <td>0.0</td>\n",
              "      <td>97.887502</td>\n",
              "      <td>1.427891</td>\n",
              "      <td>0.000</td>\n",
              "      <td>0.045630</td>\n",
              "      <td>1556.0</td>\n",
              "      <td>214728.0</td>\n",
              "      <td>214728.0</td>\n",
              "      <td>1284089.0</td>\n",
              "      <td>0</td>\n",
              "    </tr>\n",
              "  </tbody>\n",
              "</table>\n",
              "</div>"
            ],
            "text/plain": [
              "    Applicant_ID default_status  ...  form_field9  form_field47_new\n",
              "0  Apcnt_1000000             no  ...    4272776.0                 0\n",
              "1  Apcnt_1000004             no  ...    9073814.0                 0\n",
              "2  Apcnt_1000008            yes  ...     192944.0                 0\n",
              "3  Apcnt_1000012             no  ...    3986472.0                 0\n",
              "4  Apcnt_1000016             no  ...    1284089.0                 0\n",
              "\n",
              "[5 rows x 52 columns]"
            ]
          },
          "metadata": {
            "tags": []
          },
          "execution_count": 97
        }
      ]
    },
    {
      "cell_type": "code",
      "metadata": {
        "id": "5VcS1Sc_TnOO",
        "outputId": "03d30ed9-8e3d-4d72-fd9f-3c8343e9a22e",
        "colab": {
          "base_uri": "https://localhost:8080/",
          "height": 255
        }
      },
      "source": [
        "cus_pred_y = dataset[['default_status']]\n",
        "cus_pred_x = dataset.drop(['default_status','Applicant_ID'], axis= 1)\n",
        "dataset.Applicant_ID.unique()\n",
        "dataset.info"
      ],
      "execution_count": 119,
      "outputs": [
        {
          "output_type": "execute_result",
          "data": {
            "text/plain": [
              "<bound method DataFrame.info of         Applicant_ID default_status  ...  form_field9  form_field47_new\n",
              "0      Apcnt_1000000             no  ...    4272776.0                 0\n",
              "1      Apcnt_1000004             no  ...    9073814.0                 0\n",
              "2      Apcnt_1000008            yes  ...     192944.0                 0\n",
              "3      Apcnt_1000012             no  ...    3986472.0                 0\n",
              "4      Apcnt_1000016             no  ...    1284089.0                 0\n",
              "...              ...            ...  ...          ...               ...\n",
              "23995   Apcnt_999940            NaN  ...    2717943.0                 0\n",
              "23996   Apcnt_999956            NaN  ...   89718571.0                 0\n",
              "23997   Apcnt_999976            NaN  ...   89718571.0                 0\n",
              "23998   Apcnt_999984            NaN  ...     393668.0                 0\n",
              "23999   Apcnt_999992            NaN  ...   18885950.0                 0\n",
              "\n",
              "[80000 rows x 52 columns]>"
            ]
          },
          "metadata": {
            "tags": []
          },
          "execution_count": 119
        }
      ]
    },
    {
      "cell_type": "code",
      "metadata": {
        "id": "ojlXx9y0TtCn"
      },
      "source": [
        "from pandas import DataFrame\n",
        "cus_pred_y = DataFrame (cus_pred_y,columns=['default_status'])\n",
        "cus_pred_y = cus_pred_y.dropna()"
      ],
      "execution_count": 120,
      "outputs": []
    },
    {
      "cell_type": "code",
      "metadata": {
        "id": "a6B8xOFCUNEA",
        "outputId": "cbce92ea-d1de-4720-eaa5-e62a8526a028",
        "colab": {
          "base_uri": "https://localhost:8080/",
          "height": 88
        }
      },
      "source": [
        "# Get one hot encoding of columns 'default_status'\n",
        "# cus_pred_y = pd.get_dummies(cus_pred_y['default_status'])\n",
        "\n",
        "cus_pd_y = LabelEncoder().fit_transform(cus_pred_y.astype('str'))\n",
        "# Join the encoded df\n",
        "cus_pd_y"
      ],
      "execution_count": 121,
      "outputs": [
        {
          "output_type": "stream",
          "text": [
            "/usr/local/lib/python3.6/dist-packages/sklearn/preprocessing/_label.py:251: DataConversionWarning: A column-vector y was passed when a 1d array was expected. Please change the shape of y to (n_samples, ), for example using ravel().\n",
            "  y = column_or_1d(y, warn=True)\n"
          ],
          "name": "stderr"
        },
        {
          "output_type": "execute_result",
          "data": {
            "text/plain": [
              "array([0, 0, 1, ..., 0, 0, 0])"
            ]
          },
          "metadata": {
            "tags": []
          },
          "execution_count": 121
        }
      ]
    },
    {
      "cell_type": "code",
      "metadata": {
        "id": "0ZkUHp1EUUUH",
        "outputId": "25306386-8a46-4286-9542-f51224f1bed4",
        "colab": {
          "base_uri": "https://localhost:8080/",
          "height": 351
        }
      },
      "source": [
        "dataset.corr().round(3)\n",
        "\n",
        "corrs = cus_pred_x.corr()\n",
        "mask = np.zeros_like(corrs)\n",
        "mask[np.triu_indices_from(mask)] = True\n",
        "sns.heatmap(corrs, cmap='Spectral_r', mask=mask, square=True, vmin=-.4, vmax=.4)\n",
        "plt.title('Correlation matrix')"
      ],
      "execution_count": 122,
      "outputs": [
        {
          "output_type": "execute_result",
          "data": {
            "text/plain": [
              "Text(0.5, 1.0, 'Correlation matrix')"
            ]
          },
          "metadata": {
            "tags": []
          },
          "execution_count": 122
        },
        {
          "output_type": "display_data",
          "data": {
            "image/png": "[encoded data removed]",
            "text/plain": [
              "<Figure size 432x288 with 2 Axes>"
            ]
          },
          "metadata": {
            "tags": [],
            "needs_background": "light"
          }
        }
      ]
    },
    {
      "cell_type": "markdown",
      "metadata": {
        "id": "IclJoDTlUbFK"
      },
      "source": [
        "**Check the features of Importance**"
      ]
    },
    {
      "cell_type": "code",
      "metadata": {
        "id": "Zc1KElV1Ujy6",
        "outputId": "7e22348b-bb3a-4709-e96a-4c66e501bb5c",
        "colab": {
          "base_uri": "https://localhost:8080/",
          "height": 34
        }
      },
      "source": [
        "# check scikit-learn version\n",
        "import sklearn\n",
        "print(sklearn.__version__)"
      ],
      "execution_count": 102,
      "outputs": [
        {
          "output_type": "stream",
          "text": [
            "0.22.2.post1\n"
          ],
          "name": "stdout"
        }
      ]
    },
    {
      "cell_type": "code",
      "metadata": {
        "id": "aNcbYoO-U2ZV",
        "outputId": "6f27ed67-fbd9-43b8-9e0a-872794ed83c6",
        "colab": {
          "base_uri": "https://localhost:8080/",
          "height": 34
        }
      },
      "source": [
        "# test classification dataset\n",
        "from sklearn.datasets import make_classification\n",
        "# define dataset\n",
        "cus_pred_x, cus_pd_y = make_classification(n_samples=80000, n_features=53, n_informative=5, n_redundant=5, random_state=1)\n",
        "# summarize the dataset\n",
        "print(cus_pred_x.shape, cus_pd_y.shape)"
      ],
      "execution_count": 123,
      "outputs": [
        {
          "output_type": "stream",
          "text": [
            "(80000, 53) (80000,)\n"
          ],
          "name": "stdout"
        }
      ]
    },
    {
      "cell_type": "code",
      "metadata": {
        "id": "znHGJgyXU83z",
        "outputId": "bb589bff-4025-4af8-f2d6-e8249f2cfe1b",
        "colab": {
          "base_uri": "https://localhost:8080/",
          "height": 1000
        }
      },
      "source": [
        "# linear regression feature importance\n",
        "from sklearn.datasets import make_regression\n",
        "from sklearn.linear_model import LinearRegression\n",
        "from matplotlib import pyplot\n",
        "# define the model\n",
        "model = LinearRegression()\n",
        "# fit the model\n",
        "model.fit(cus_pred_x, cus_pd_y)\n",
        "# get importance\n",
        "importance = model.coef_\n",
        "# summarize feature importance\n",
        "for i,v in enumerate(importance):\n",
        "\tprint('Feature: %0d, Score: %.5f' % (i,v))\n",
        "# plot feature importance\n",
        "pyplot.bar([cus_pred_x for cus_pred_x in range(len(importance))], importance)\n",
        "pyplot.show()  # suggests 42 features are important for predictions"
      ],
      "execution_count": 124,
      "outputs": [
        {
          "output_type": "stream",
          "text": [
            "Feature: 0, Score: -0.00041\n",
            "Feature: 1, Score: 601194329524.04504\n",
            "Feature: 2, Score: -0.00182\n",
            "Feature: 3, Score: 0.00132\n",
            "Feature: 4, Score: 0.00014\n",
            "Feature: 5, Score: 0.00119\n",
            "Feature: 6, Score: -205622492739.75644\n",
            "Feature: 7, Score: 0.00110\n",
            "Feature: 8, Score: -0.00031\n",
            "Feature: 9, Score: 0.00044\n",
            "Feature: 10, Score: -0.00063\n",
            "Feature: 11, Score: 0.00149\n",
            "Feature: 12, Score: 0.00031\n",
            "Feature: 13, Score: -0.00065\n",
            "Feature: 14, Score: 0.00089\n",
            "Feature: 15, Score: 389027942932.19958\n",
            "Feature: 16, Score: 0.00043\n",
            "Feature: 17, Score: 81171388651.65868\n",
            "Feature: 18, Score: -0.00010\n",
            "Feature: 19, Score: -0.00056\n",
            "Feature: 20, Score: -0.00006\n",
            "Feature: 21, Score: -0.00019\n",
            "Feature: 22, Score: 0.00232\n",
            "Feature: 23, Score: -0.00060\n",
            "Feature: 24, Score: 0.00150\n",
            "Feature: 25, Score: 76975708165.48680\n",
            "Feature: 26, Score: -0.00172\n",
            "Feature: 27, Score: -0.00066\n",
            "Feature: 28, Score: -128029592788.84778\n",
            "Feature: 29, Score: -0.00109\n",
            "Feature: 30, Score: -237888488771.07663\n",
            "Feature: 31, Score: 0.00198\n",
            "Feature: 32, Score: -0.00024\n",
            "Feature: 33, Score: -0.00031\n",
            "Feature: 34, Score: 0.00140\n",
            "Feature: 35, Score: 62855471187.00728\n",
            "Feature: 36, Score: -16336931023.89622\n",
            "Feature: 37, Score: -0.00018\n",
            "Feature: 38, Score: -258942804707.46780\n",
            "Feature: 39, Score: 0.00087\n",
            "Feature: 40, Score: 0.00056\n",
            "Feature: 41, Score: -0.00075\n",
            "Feature: 42, Score: -0.00256\n",
            "Feature: 43, Score: -0.00076\n",
            "Feature: 44, Score: 0.00034\n",
            "Feature: 45, Score: 0.00176\n",
            "Feature: 46, Score: -0.00038\n",
            "Feature: 47, Score: 0.00102\n",
            "Feature: 48, Score: 0.00079\n",
            "Feature: 49, Score: 0.00283\n",
            "Feature: 50, Score: -0.00080\n",
            "Feature: 51, Score: 0.00059\n",
            "Feature: 52, Score: 0.00074\n"
          ],
          "name": "stdout"
        },
        {
          "output_type": "display_data",
          "data": {
            "image/png": "[encoded data removed]",
            "text/plain": [
              "<Figure size 432x288 with 1 Axes>"
            ]
          },
          "metadata": {
            "tags": [],
            "needs_background": "light"
          }
        }
      ]
    },
    {
      "cell_type": "markdown",
      "metadata": {
        "id": "AbQNCzmCVOiI"
      },
      "source": [
        "**Last Processing Step: Normalizing Features**"
      ]
    },
    {
      "cell_type": "code",
      "metadata": {
        "id": "aUI3mipAVGEA"
      },
      "source": [
        "from sklearn.preprocessing import MinMaxScaler\n",
        "trans = MinMaxScaler()\n",
        "features = trans.fit_transform(cus_pred_x)"
      ],
      "execution_count": 125,
      "outputs": []
    },
    {
      "cell_type": "code",
      "metadata": {
        "id": "p0FbLbSvVhRQ"
      },
      "source": [
        "labels = cus_pd_y\n",
        "features = cus_pred_x\n",
        "labels = np.reshape(labels, (-1, 1))"
      ],
      "execution_count": 126,
      "outputs": []
    },
    {
      "cell_type": "markdown",
      "metadata": {
        "id": "vKQXC4jRW595"
      },
      "source": [
        "**Train a Logistic Regression Model using Scikit-Learn**"
      ]
    },
    {
      "cell_type": "code",
      "metadata": {
        "id": "NRy76wo4ctx8",
        "outputId": "22bbe188-eaae-4168-ffe0-246e95ee3b7d",
        "colab": {
          "base_uri": "https://localhost:8080/",
          "height": 51
        }
      },
      "source": [
        "X_train, X_test, y_train, y_test = train_test_split(features, labels, test_size =0.3, random_state=42, stratify = labels)\n",
        "print('X_train.shape', X_train.shape, 'y_train.shape', y_train.shape)\n",
        "print('X_test.shape', X_test.shape, 'y_test.shape', y_test.shape)"
      ],
      "execution_count": 127,
      "outputs": [
        {
          "output_type": "stream",
          "text": [
            "X_train.shape (56000, 53) y_train.shape (56000, 1)\n",
            "X_test.shape (24000, 53) y_test.shape (24000, 1)\n"
          ],
          "name": "stdout"
        }
      ]
    },
    {
      "cell_type": "code",
      "metadata": {
        "id": "ZXjkGCWpcpzW",
        "outputId": "d837b0cb-faf1-4670-9e87-3e17657010f9",
        "colab": {
          "base_uri": "https://localhost:8080/",
          "height": 102
        }
      },
      "source": [
        "from sklearn.linear_model import LogisticRegression\n",
        "sklearn_lr = LogisticRegression()\n",
        "print(sklearn_lr)"
      ],
      "execution_count": 108,
      "outputs": [
        {
          "output_type": "stream",
          "text": [
            "LogisticRegression(C=1.0, class_weight=None, dual=False, fit_intercept=True,\n",
            "                   intercept_scaling=1, l1_ratio=None, max_iter=100,\n",
            "                   multi_class='auto', n_jobs=None, penalty='l2',\n",
            "                   random_state=None, solver='lbfgs', tol=0.0001, verbose=0,\n",
            "                   warm_start=False)\n"
          ],
          "name": "stdout"
        }
      ]
    },
    {
      "cell_type": "code",
      "metadata": {
        "id": "HSatKbDQc2lP",
        "outputId": "7ae10e1a-b749-4f2b-a2bf-a10faa74f77a",
        "colab": {
          "base_uri": "https://localhost:8080/",
          "height": 122
        }
      },
      "source": [
        "# Train the logistic regression model using scikit-learn \n",
        "to = time.time()\n",
        "sklearn_lr.fit(X_train, y_train)\n",
        "sklearn_pred = sklearn_lr.predict(X_test)\n",
        "\n",
        "from sklearn.metrics import mean_squared_error\n",
        "print(sklearn_pred,len(sklearn_pred))\n",
        "print (accuracy_score(y_test, sklearn_pred))\n",
        "print(mean_squared_error(y_test, sklearn_pred))\n"
      ],
      "execution_count": 109,
      "outputs": [
        {
          "output_type": "stream",
          "text": [
            "[1 1 1 ... 1 0 1] 24000\n",
            "0.8310416666666667\n",
            "0.16895833333333332\n"
          ],
          "name": "stdout"
        },
        {
          "output_type": "stream",
          "text": [
            "/usr/local/lib/python3.6/dist-packages/sklearn/utils/validation.py:760: DataConversionWarning: A column-vector y was passed when a 1d array was expected. Please change the shape of y to (n_samples, ), for example using ravel().\n",
            "  y = column_or_1d(y, warn=True)\n"
          ],
          "name": "stderr"
        }
      ]
    },
    {
      "cell_type": "markdown",
      "metadata": {
        "id": "CL4962oJeTj3"
      },
      "source": [
        "**Feature of Importance Use for prediction**"
      ]
    },
    {
      "cell_type": "code",
      "metadata": {
        "id": "8oemXZizgpVS",
        "outputId": "a73642bb-b02f-435c-fd2e-0e6bf2ec8555",
        "colab": {
          "base_uri": "https://localhost:8080/",
          "height": 34
        }
      },
      "source": [
        "# evaluation of a model using all features\n",
        "from sklearn.datasets import make_classification\n",
        "from sklearn.model_selection import train_test_split\n",
        "from sklearn.linear_model import LogisticRegression\n",
        "from sklearn.metrics import accuracy_score\n",
        "# define the dataset\n",
        "labels, target = make_classification(n_samples=80000, n_features=53, n_informative=5, n_redundant=5, random_state=1)\n",
        "# split into train and test sets\n",
        "X_train, X_test, y_train, y_test = train_test_split(labels, target, test_size=0.33, random_state=1)\n",
        "# fit the model\n",
        "model = LogisticRegression(solver='liblinear')\n",
        "model.fit(X_train, y_train)\n",
        "# evaluate the model\n",
        "yhat = model.predict(X_test)\n",
        "# evaluate predictions\n",
        "accuracy = accuracy_score(y_test, yhat)\n",
        "print('Accuracy: %.2f' % (accuracy*100))"
      ],
      "execution_count": 110,
      "outputs": [
        {
          "output_type": "stream",
          "text": [
            "Accuracy: 82.70\n"
          ],
          "name": "stdout"
        }
      ]
    },
    {
      "cell_type": "markdown",
      "metadata": {
        "id": "U7ydJcZTdB5G"
      },
      "source": [
        "**Train with Random Forest Model Using Scikit Learn**"
      ]
    },
    {
      "cell_type": "code",
      "metadata": {
        "id": "moYCravady9j",
        "outputId": "265fdf65-08f7-4ebb-d2b2-45f056548508",
        "colab": {
          "base_uri": "https://localhost:8080/",
          "height": 122
        }
      },
      "source": [
        "from sklearn.ensemble import RandomForestClassifier\n",
        "sklearn_rf = RandomForestClassifier(n_estimators=160, n_jobs=160, random_state=0)\n",
        "# training random forest classifier using scikit learn\n",
        "sklearn_rf.fit(X_train, y_train)\n",
        "rf_pred = sklearn_rf.predict(X_test)\n",
        "\n",
        "from sklearn.metrics import mean_squared_error\n",
        "print(rf_pred,len(rf_pred))\n",
        "print (accuracy_score(y_test, rf_pred))\n",
        "print(mean_squared_error(y_test, rf_pred))\n"
      ],
      "execution_count": 128,
      "outputs": [
        {
          "output_type": "stream",
          "text": [
            "/usr/local/lib/python3.6/dist-packages/ipykernel_launcher.py:4: DataConversionWarning: A column-vector y was passed when a 1d array was expected. Please change the shape of y to (n_samples,), for example using ravel().\n",
            "  after removing the cwd from sys.path.\n"
          ],
          "name": "stderr"
        },
        {
          "output_type": "stream",
          "text": [
            "[1 1 1 ... 1 0 0] 24000\n",
            "0.933875\n",
            "0.066125\n"
          ],
          "name": "stdout"
        }
      ]
    },
    {
      "cell_type": "code",
      "metadata": {
        "id": "sh3Jtiu-Lz1M",
        "outputId": "1b243a38-24bc-4c64-b2e5-2d2bbf2e3725",
        "colab": {
          "base_uri": "https://localhost:8080/",
          "height": 419
        }
      },
      "source": [
        "Applicant_id = dataset['Applicant_ID']\n",
        "X_tra, X_te, y_tra, y_te = train_test_split(Applicant_id, target, test_size=0.33, random_state=1)\n",
        "Applicant_id = pd.DataFrame (X_te)\n",
        "predict = pd.DataFrame(rf_pred)\n",
        "prediction = Applicant_id.join(predict)\n",
        "prediction.rename(columns= {0 : 'default_status_'}, inplace=True)\n",
        "prediction"
      ],
      "execution_count": 129,
      "outputs": [
        {
          "output_type": "execute_result",
          "data": {
            "text/html": [
              "<div>\n",
              "<style scoped>\n",
              "    .dataframe tbody tr th:only-of-type {\n",
              "        vertical-align: middle;\n",
              "    }\n",
              "\n",
              "    .dataframe tbody tr th {\n",
              "        vertical-align: top;\n",
              "    }\n",
              "\n",
              "    .dataframe thead th {\n",
              "        text-align: right;\n",
              "    }\n",
              "</style>\n",
              "<table border=\"1\" class=\"dataframe\">\n",
              "  <thead>\n",
              "    <tr style=\"text-align: right;\">\n",
              "      <th></th>\n",
              "      <th>Applicant_ID</th>\n",
              "      <th>default_status_</th>\n",
              "    </tr>\n",
              "  </thead>\n",
              "  <tbody>\n",
              "    <tr>\n",
              "      <th>0</th>\n",
              "      <td>Apcnt_1000032</td>\n",
              "      <td>1.0</td>\n",
              "    </tr>\n",
              "    <tr>\n",
              "      <th>1</th>\n",
              "      <td>Apcnt_1000004</td>\n",
              "      <td>1.0</td>\n",
              "    </tr>\n",
              "    <tr>\n",
              "      <th>3</th>\n",
              "      <td>Apcnt_1000012</td>\n",
              "      <td>0.0</td>\n",
              "    </tr>\n",
              "    <tr>\n",
              "      <th>4</th>\n",
              "      <td>Apcnt_1000080</td>\n",
              "      <td>0.0</td>\n",
              "    </tr>\n",
              "    <tr>\n",
              "      <th>5</th>\n",
              "      <td>Apcnt_1000084</td>\n",
              "      <td>1.0</td>\n",
              "    </tr>\n",
              "    <tr>\n",
              "      <th>...</th>\n",
              "      <td>...</td>\n",
              "      <td>...</td>\n",
              "    </tr>\n",
              "    <tr>\n",
              "      <th>55983</th>\n",
              "      <td>Apcnt_999908</td>\n",
              "      <td>NaN</td>\n",
              "    </tr>\n",
              "    <tr>\n",
              "      <th>55986</th>\n",
              "      <td>Apcnt_999924</td>\n",
              "      <td>NaN</td>\n",
              "    </tr>\n",
              "    <tr>\n",
              "      <th>55989</th>\n",
              "      <td>Apcnt_999936</td>\n",
              "      <td>NaN</td>\n",
              "    </tr>\n",
              "    <tr>\n",
              "      <th>55992</th>\n",
              "      <td>Apcnt_999952</td>\n",
              "      <td>NaN</td>\n",
              "    </tr>\n",
              "    <tr>\n",
              "      <th>55995</th>\n",
              "      <td>Apcnt_999968</td>\n",
              "      <td>NaN</td>\n",
              "    </tr>\n",
              "  </tbody>\n",
              "</table>\n",
              "<p>26400 rows × 2 columns</p>\n",
              "</div>"
            ],
            "text/plain": [
              "        Applicant_ID  default_status_\n",
              "0      Apcnt_1000032              1.0\n",
              "1      Apcnt_1000004              1.0\n",
              "3      Apcnt_1000012              0.0\n",
              "4      Apcnt_1000080              0.0\n",
              "5      Apcnt_1000084              1.0\n",
              "...              ...              ...\n",
              "55983   Apcnt_999908              NaN\n",
              "55986   Apcnt_999924              NaN\n",
              "55989   Apcnt_999936              NaN\n",
              "55992   Apcnt_999952              NaN\n",
              "55995   Apcnt_999968              NaN\n",
              "\n",
              "[26400 rows x 2 columns]"
            ]
          },
          "metadata": {
            "tags": []
          },
          "execution_count": 129
        }
      ]
    },
    {
      "cell_type": "code",
      "metadata": {
        "id": "Em80WChbOyCz"
      },
      "source": [
        "prediction = prediction.to_csv('prediction.csv')"
      ],
      "execution_count": 130,
      "outputs": []
    },
    {
      "cell_type": "markdown",
      "metadata": {
        "id": "jt7mSHQdhpVl"
      },
      "source": [
        "**Using XGboost Classifier**"
      ]
    },
    {
      "cell_type": "code",
      "metadata": {
        "id": "wGzz8yB4hRco",
        "outputId": "72dee5bf-aedf-493b-9244-14e58cfe7cb4",
        "colab": {
          "base_uri": "https://localhost:8080/",
          "height": 1000
        }
      },
      "source": [
        "# xgboost for feature importance on a classification problem\n",
        "from sklearn.datasets import make_classification\n",
        "from xgboost import XGBClassifier\n",
        "from matplotlib import pyplot\n",
        "# define dataset\n",
        "labels, target = make_classification(n_samples=80000, n_features=53, n_informative=5, n_redundant=5, random_state=1)\n",
        "# define the model\n",
        "model = XGBClassifier()\n",
        "# fit the model\n",
        "model.fit(labels, target)\n",
        "# get importance\n",
        "importance = model.feature_importances_\n",
        "# summarize feature importance\n",
        "for i,v in enumerate(importance):\n",
        "\tprint('Feature: %0d, Score: %.5f' % (i,v))\n",
        "# plot feature importance\n",
        "pyplot.bar([labels for labels in range(len(importance))], importance)\n",
        "pyplot.show()"
      ],
      "execution_count": 111,
      "outputs": [
        {
          "output_type": "stream",
          "text": [
            "Feature: 0, Score: 0.00000\n",
            "Feature: 1, Score: 0.31697\n",
            "Feature: 2, Score: 0.00000\n",
            "Feature: 3, Score: 0.00000\n",
            "Feature: 4, Score: 0.00000\n",
            "Feature: 5, Score: 0.00000\n",
            "Feature: 6, Score: 0.17558\n",
            "Feature: 7, Score: 0.00000\n",
            "Feature: 8, Score: 0.00000\n",
            "Feature: 9, Score: 0.00000\n",
            "Feature: 10, Score: 0.00000\n",
            "Feature: 11, Score: 0.00000\n",
            "Feature: 12, Score: 0.00000\n",
            "Feature: 13, Score: 0.00000\n",
            "Feature: 14, Score: 0.00000\n",
            "Feature: 15, Score: 0.04171\n",
            "Feature: 16, Score: 0.00000\n",
            "Feature: 17, Score: 0.04154\n",
            "Feature: 18, Score: 0.00000\n",
            "Feature: 19, Score: 0.00000\n",
            "Feature: 20, Score: 0.00000\n",
            "Feature: 21, Score: 0.00000\n",
            "Feature: 22, Score: 0.00000\n",
            "Feature: 23, Score: 0.00000\n",
            "Feature: 24, Score: 0.00000\n",
            "Feature: 25, Score: 0.04750\n",
            "Feature: 26, Score: 0.00000\n",
            "Feature: 27, Score: 0.00000\n",
            "Feature: 28, Score: 0.16086\n",
            "Feature: 29, Score: 0.00000\n",
            "Feature: 30, Score: 0.05932\n",
            "Feature: 31, Score: 0.00079\n",
            "Feature: 32, Score: 0.00108\n",
            "Feature: 33, Score: 0.00000\n",
            "Feature: 34, Score: 0.00000\n",
            "Feature: 35, Score: 0.07506\n",
            "Feature: 36, Score: 0.02996\n",
            "Feature: 37, Score: 0.00000\n",
            "Feature: 38, Score: 0.04863\n",
            "Feature: 39, Score: 0.00000\n",
            "Feature: 40, Score: 0.00000\n",
            "Feature: 41, Score: 0.00000\n",
            "Feature: 42, Score: 0.00000\n",
            "Feature: 43, Score: 0.00000\n",
            "Feature: 44, Score: 0.00000\n",
            "Feature: 45, Score: 0.00000\n",
            "Feature: 46, Score: 0.00000\n",
            "Feature: 47, Score: 0.00000\n",
            "Feature: 48, Score: 0.00000\n",
            "Feature: 49, Score: 0.00000\n",
            "Feature: 50, Score: 0.00000\n",
            "Feature: 51, Score: 0.00099\n",
            "Feature: 52, Score: 0.00000\n"
          ],
          "name": "stdout"
        },
        {
          "output_type": "display_data",
          "data": {
            "image/png": "[encoded data removed]",
            "text/plain": [
              "<Figure size 432x288 with 1 Axes>"
            ]
          },
          "metadata": {
            "tags": [],
            "needs_background": "light"
          }
        }
      ]
    },
    {
      "cell_type": "code",
      "metadata": {
        "id": "68_7ogjyjdCv",
        "outputId": "4c7a5bbf-b055-4a0a-9efb-2ae62b18ba86",
        "colab": {
          "base_uri": "https://localhost:8080/",
          "height": 34
        }
      },
      "source": [
        "# define the dataset\n",
        "labels, target = make_classification(n_samples=80000, n_features=53, n_informative=5, n_redundant=5, random_state=1)\n",
        "# split into train and test sets\n",
        "X_train, X_test, y_train, y_test = train_test_split(labels, target, test_size=0.33, random_state=1)\n",
        "# fit the model\n",
        "# define the model\n",
        "model = XGBClassifier()\n",
        "# fit the model\n",
        "model.fit(labels, target)\n",
        "# evaluate the model\n",
        "yhat = model.predict(X_test)\n",
        "# evaluate predictions\n",
        "accuracy = accuracy_score(y_test, yhat)\n",
        "print('Accuracy: %.2f' % (accuracy*100))"
      ],
      "execution_count": 112,
      "outputs": [
        {
          "output_type": "stream",
          "text": [
            "Accuracy: 90.70\n"
          ],
          "name": "stdout"
        }
      ]
    },
    {
      "cell_type": "code",
      "metadata": {
        "id": "8WeasMQUE7we",
        "outputId": "179f7947-93d2-459e-a4a2-17072a67bbfd",
        "colab": {
          "base_uri": "https://localhost:8080/",
          "height": 419
        }
      },
      "source": [
        "import pandas\n",
        "Applicant_id = dataset['Applicant_ID']\n",
        "X_train, X_test, y_train, y_test = train_test_split(Applicant_id, target, test_size=0.33, random_state=1)\n",
        "Applicant_id = pd.DataFrame (X_test)\n",
        "prediction = pd.DataFrame(yhat)\n",
        "predictions = Applicant_id.join(prediction)\n",
        "predictions.rename(columns= {0 : 'default_status_pred'}, inplace=True)\n",
        "predictions"
      ],
      "execution_count": 113,
      "outputs": [
        {
          "output_type": "execute_result",
          "data": {
            "text/html": [
              "<div>\n",
              "<style scoped>\n",
              "    .dataframe tbody tr th:only-of-type {\n",
              "        vertical-align: middle;\n",
              "    }\n",
              "\n",
              "    .dataframe tbody tr th {\n",
              "        vertical-align: top;\n",
              "    }\n",
              "\n",
              "    .dataframe thead th {\n",
              "        text-align: right;\n",
              "    }\n",
              "</style>\n",
              "<table border=\"1\" class=\"dataframe\">\n",
              "  <thead>\n",
              "    <tr style=\"text-align: right;\">\n",
              "      <th></th>\n",
              "      <th>Applicant_ID</th>\n",
              "      <th>default_status_pred</th>\n",
              "    </tr>\n",
              "  </thead>\n",
              "  <tbody>\n",
              "    <tr>\n",
              "      <th>0</th>\n",
              "      <td>Apcnt_1000032</td>\n",
              "      <td>1.0</td>\n",
              "    </tr>\n",
              "    <tr>\n",
              "      <th>1</th>\n",
              "      <td>Apcnt_1000004</td>\n",
              "      <td>0.0</td>\n",
              "    </tr>\n",
              "    <tr>\n",
              "      <th>3</th>\n",
              "      <td>Apcnt_1000012</td>\n",
              "      <td>0.0</td>\n",
              "    </tr>\n",
              "    <tr>\n",
              "      <th>4</th>\n",
              "      <td>Apcnt_1000080</td>\n",
              "      <td>0.0</td>\n",
              "    </tr>\n",
              "    <tr>\n",
              "      <th>5</th>\n",
              "      <td>Apcnt_1000084</td>\n",
              "      <td>0.0</td>\n",
              "    </tr>\n",
              "    <tr>\n",
              "      <th>...</th>\n",
              "      <td>...</td>\n",
              "      <td>...</td>\n",
              "    </tr>\n",
              "    <tr>\n",
              "      <th>55983</th>\n",
              "      <td>Apcnt_999908</td>\n",
              "      <td>NaN</td>\n",
              "    </tr>\n",
              "    <tr>\n",
              "      <th>55986</th>\n",
              "      <td>Apcnt_999924</td>\n",
              "      <td>NaN</td>\n",
              "    </tr>\n",
              "    <tr>\n",
              "      <th>55989</th>\n",
              "      <td>Apcnt_999936</td>\n",
              "      <td>NaN</td>\n",
              "    </tr>\n",
              "    <tr>\n",
              "      <th>55992</th>\n",
              "      <td>Apcnt_999952</td>\n",
              "      <td>NaN</td>\n",
              "    </tr>\n",
              "    <tr>\n",
              "      <th>55995</th>\n",
              "      <td>Apcnt_999968</td>\n",
              "      <td>NaN</td>\n",
              "    </tr>\n",
              "  </tbody>\n",
              "</table>\n",
              "<p>26400 rows × 2 columns</p>\n",
              "</div>"
            ],
            "text/plain": [
              "        Applicant_ID  default_status_pred\n",
              "0      Apcnt_1000032                  1.0\n",
              "1      Apcnt_1000004                  0.0\n",
              "3      Apcnt_1000012                  0.0\n",
              "4      Apcnt_1000080                  0.0\n",
              "5      Apcnt_1000084                  0.0\n",
              "...              ...                  ...\n",
              "55983   Apcnt_999908                  NaN\n",
              "55986   Apcnt_999924                  NaN\n",
              "55989   Apcnt_999936                  NaN\n",
              "55992   Apcnt_999952                  NaN\n",
              "55995   Apcnt_999968                  NaN\n",
              "\n",
              "[26400 rows x 2 columns]"
            ]
          },
          "metadata": {
            "tags": []
          },
          "execution_count": 113
        }
      ]
    },
    {
      "cell_type": "code",
      "metadata": {
        "id": "d4e36yNi70Y8"
      },
      "source": [
        "prediction = predictions.to_csv('predictions.csv')"
      ],
      "execution_count": null,
      "outputs": []
    }
  ]
}